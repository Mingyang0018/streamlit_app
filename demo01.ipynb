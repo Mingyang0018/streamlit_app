{
 "cells": [
  {
   "cell_type": "code",
   "execution_count": 8,
   "metadata": {},
   "outputs": [
    {
     "data": {
      "text/plain": [
       "array([[-0.66096801,  2.07169489, -0.71789303],\n",
       "       [ 0.18621418,  0.62582759,  1.11345167],\n",
       "       [-0.26531142, -0.03852286, -0.92191519],\n",
       "       [-1.72282355, -1.09102383,  1.72500517],\n",
       "       [ 0.41471183, -0.42644736, -2.19497156],\n",
       "       [-0.69774523,  0.02828945,  1.17462559],\n",
       "       [ 1.08636728,  0.41918796,  0.46250998],\n",
       "       [-0.61478341, -1.31258556, -1.9441073 ],\n",
       "       [ 0.96166244,  0.20631967,  1.33414348],\n",
       "       [ 0.46740097, -0.63138132, -0.84594399]])"
      ]
     },
     "execution_count": 8,
     "metadata": {},
     "output_type": "execute_result"
    }
   ],
   "source": [
    "import numpy as np\n",
    "import pandas as pd\n",
    "\n",
    "np.random.randn(10,3)"
   ]
  }
 ],
 "metadata": {
  "kernelspec": {
   "display_name": "base",
   "language": "python",
   "name": "python3"
  },
  "language_info": {
   "codemirror_mode": {
    "name": "ipython",
    "version": 3
   },
   "file_extension": ".py",
   "mimetype": "text/x-python",
   "name": "python",
   "nbconvert_exporter": "python",
   "pygments_lexer": "ipython3",
   "version": "3.10.13"
  }
 },
 "nbformat": 4,
 "nbformat_minor": 2
}
